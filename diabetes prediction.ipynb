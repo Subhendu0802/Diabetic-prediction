{
 "cells": [
  {
   "cell_type": "code",
   "execution_count": null,
   "id": "0a5f4109",
   "metadata": {},
   "outputs": [],
   "source": [
    "import pandas as pd\n",
    "import numpy as np\n",
    "import matplotlib.pyplot as plt\n",
    "import seaborn as sns\n",
    "from sklearn.model_selection import train_test_split\n",
    "from sklearn.linear_model import LogisticRegression\n",
    "from sklearn.metrics import accuracy_score"
   ]
  },
  {
   "cell_type": "code",
   "execution_count": null,
   "id": "42b47918",
   "metadata": {},
   "outputs": [],
   "source": [
    "Data=pd.read_csv('diabetes.csv')"
   ]
  },
  {
   "cell_type": "code",
   "execution_count": null,
   "id": "00e0b3da",
   "metadata": {},
   "outputs": [],
   "source": [
    "Data.head(10)"
   ]
  },
  {
   "cell_type": "code",
   "execution_count": null,
   "id": "fdea4de6",
   "metadata": {},
   "outputs": [],
   "source": [
    "Data.shape"
   ]
  },
  {
   "cell_type": "code",
   "execution_count": null,
   "id": "2c916f3e",
   "metadata": {},
   "outputs": [],
   "source": [
    "Data.info()"
   ]
  },
  {
   "cell_type": "code",
   "execution_count": null,
   "id": "124bf0c6",
   "metadata": {},
   "outputs": [],
   "source": [
    "Data.isnull()"
   ]
  },
  {
   "cell_type": "code",
   "execution_count": null,
   "id": "09d01388",
   "metadata": {},
   "outputs": [],
   "source": [
    "Data.isnull().sum()"
   ]
  },
  {
   "cell_type": "code",
   "execution_count": null,
   "id": "9387fd73",
   "metadata": {},
   "outputs": [],
   "source": [
    "Data.describe()"
   ]
  },
  {
   "cell_type": "code",
   "execution_count": null,
   "id": "d4b975fc",
   "metadata": {},
   "outputs": [],
   "source": [
    "Data['Outcome'].value_counts()"
   ]
  },
  {
   "cell_type": "code",
   "execution_count": null,
   "id": "b03f59ba",
   "metadata": {},
   "outputs": [],
   "source": [
    "sns.countplot('Outcome',data=Data)"
   ]
  },
  {
   "cell_type": "code",
   "execution_count": null,
   "id": "01b81142",
   "metadata": {},
   "outputs": [],
   "source": [
    "sns.countplot('Pregnancies',data=Data)"
   ]
  },
  {
   "cell_type": "code",
   "execution_count": null,
   "id": "32683612",
   "metadata": {},
   "outputs": [],
   "source": [
    "Data['Pregnancies'].value_counts()"
   ]
  },
  {
   "cell_type": "code",
   "execution_count": null,
   "id": "94a1cd26",
   "metadata": {},
   "outputs": [],
   "source": [
    "X=Data.drop(columns=['SkinThickness','BMI','DiabetesPedigreeFunction','Outcome'],axis=1)"
   ]
  },
  {
   "cell_type": "code",
   "execution_count": null,
   "id": "3649fb2e",
   "metadata": {},
   "outputs": [],
   "source": [
    "Y=Data['Outcome']"
   ]
  },
  {
   "cell_type": "code",
   "execution_count": null,
   "id": "cb9541eb",
   "metadata": {},
   "outputs": [],
   "source": [
    "print(X)"
   ]
  },
  {
   "cell_type": "code",
   "execution_count": null,
   "id": "0b5d2585",
   "metadata": {},
   "outputs": [],
   "source": [
    "print(Y)"
   ]
  },
  {
   "cell_type": "code",
   "execution_count": null,
   "id": "06762549",
   "metadata": {},
   "outputs": [],
   "source": [
    "X_train,X_test,Y_train,Y_test = train_test_split(X,Y, test_size=0.2,random_state=2)"
   ]
  },
  {
   "cell_type": "code",
   "execution_count": null,
   "id": "18d7ed63",
   "metadata": {},
   "outputs": [],
   "source": [
    "print(X.shape,X_train.shape,X_test.shape)"
   ]
  },
  {
   "cell_type": "code",
   "execution_count": null,
   "id": "f3bd3161",
   "metadata": {},
   "outputs": [],
   "source": [
    "model = LogisticRegression()"
   ]
  },
  {
   "cell_type": "code",
   "execution_count": null,
   "id": "969b8c86",
   "metadata": {},
   "outputs": [],
   "source": [
    "model.fit(X_train, Y_train)"
   ]
  },
  {
   "cell_type": "code",
   "execution_count": null,
   "id": "28f3f23c",
   "metadata": {},
   "outputs": [],
   "source": [
    "X_train_prediction = model.predict(X_train)"
   ]
  },
  {
   "cell_type": "code",
   "execution_count": null,
   "id": "99480fed",
   "metadata": {},
   "outputs": [],
   "source": [
    "print(X_train_prediction)"
   ]
  },
  {
   "cell_type": "code",
   "execution_count": null,
   "id": "b1959ad2",
   "metadata": {},
   "outputs": [],
   "source": [
    "train_data_accuracy = accuracy_score(Y_train,X_train_prediction)\n",
    "print('Accuracy score of training data = ',train_data_accuracy*100)"
   ]
  },
  {
   "cell_type": "code",
   "execution_count": null,
   "id": "9c8d426d",
   "metadata": {},
   "outputs": [],
   "source": [
    "X_test_prediction = model.predict(X_test)"
   ]
  },
  {
   "cell_type": "code",
   "execution_count": null,
   "id": "ef96c966",
   "metadata": {},
   "outputs": [],
   "source": [
    "print(X_test_prediction)"
   ]
  },
  {
   "cell_type": "code",
   "execution_count": null,
   "id": "69693838",
   "metadata": {},
   "outputs": [],
   "source": [
    "test_data_accuracy = accuracy_score(Y_test,X_test_prediction)\n",
    "print('Accuracy score of test data = ',test_data_accuracy*100)"
   ]
  },
  {
   "cell_type": "code",
   "execution_count": null,
   "id": "4f5c4aac",
   "metadata": {},
   "outputs": [],
   "source": [
    "input_data=(6,148,72,0,50)\n",
    "#changing the given data into numpy array \n",
    "input_data_as_numpy_array=np.asarray(input_data)\n",
    "#reshaping the numpy array\n",
    "input_data_reshape = input_data_as_numpy_array.reshape(1,-1)\n",
    "\n",
    "\n",
    "prediction = model.predict(input_data_reshape)\n",
    "print(prediction)\n",
    "if prediction[0]==0:\n",
    "    print(\"not diabetic\")\n",
    "else:\n",
    "    print(\"diabetic\")"
   ]
  },
  {
   "cell_type": "code",
   "execution_count": null,
   "id": "d2949fe7",
   "metadata": {},
   "outputs": [],
   "source": [
    "import pickle"
   ]
  },
  {
   "cell_type": "code",
   "execution_count": null,
   "id": "90b63487",
   "metadata": {},
   "outputs": [],
   "source": [
    "filename = 'diabetic_model.sav'\n",
    "pickle.dump(model, open(filename, 'wb'))"
   ]
  },
  {
   "cell_type": "code",
   "execution_count": null,
   "id": "ef327edc",
   "metadata": {},
   "outputs": [],
   "source": [
    "# loading the saved model\n",
    "loaded_model = pickle.load(open('diabetic_model.sav', 'rb'))"
   ]
  },
  {
   "cell_type": "code",
   "execution_count": null,
   "id": "e07aa243",
   "metadata": {},
   "outputs": [],
   "source": [
    "input_data=(10,101,76,180,63)\n",
    "#changing the given data into numpy array \n",
    "input_data_as_numpy_array=np.asarray(input_data)\n",
    "#reshaping the numpy array\n",
    "input_data_reshape = input_data_as_numpy_array.reshape(1,-1)\n",
    "\n",
    "\n",
    "prediction = model.predict(input_data_reshape)\n",
    "print(prediction)\n",
    "if prediction[0]==0:\n",
    "    print(\"not diabetic\")\n",
    "else:\n",
    "    print(\"diabetic\")"
   ]
  },
  {
   "cell_type": "code",
   "execution_count": null,
   "id": "ae433029",
   "metadata": {},
   "outputs": [],
   "source": []
  }
 ],
 "metadata": {
  "kernelspec": {
   "display_name": "Python 3 (ipykernel)",
   "language": "python",
   "name": "python3"
  },
  "language_info": {
   "codemirror_mode": {
    "name": "ipython",
    "version": 3
   },
   "file_extension": ".py",
   "mimetype": "text/x-python",
   "name": "python",
   "nbconvert_exporter": "python",
   "pygments_lexer": "ipython3",
   "version": "3.9.12"
  }
 },
 "nbformat": 4,
 "nbformat_minor": 5
}
